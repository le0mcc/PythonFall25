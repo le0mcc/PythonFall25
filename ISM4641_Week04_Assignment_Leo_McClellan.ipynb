{
  "nbformat": 4,
  "nbformat_minor": 0,
  "metadata": {
    "colab": {
      "provenance": []
    },
    "kernelspec": {
      "name": "python3",
      "display_name": "Python 3"
    },
    "language_info": {
      "name": "python"
    }
  },
  "cells": [
    {
      "cell_type": "markdown",
      "source": [
        "#### Week 4 Assignment - Leo McClellan\n",
        "This assignment will demonstrate the usage of flexible, modular Python. It will calculate discounted prices, generate a timestamped report, and compute the ROI."
      ],
      "metadata": {
        "id": "VkkZzecRVqC2"
      }
    },
    {
      "cell_type": "code",
      "execution_count": 71,
      "metadata": {
        "id": "Co0Xuf3QX3qI",
        "colab": {
          "base_uri": "https://localhost:8080/",
          "height": 35
        },
        "outputId": "8e0fe97a-b9cf-45fd-d8cd-71229bc55446"
      },
      "outputs": [
        {
          "output_type": "execute_result",
          "data": {
            "text/plain": [
              "'$719.99'"
            ],
            "application/vnd.google.colaboratory.intrinsic+json": {
              "type": "string"
            }
          },
          "metadata": {},
          "execution_count": 71
        }
      ],
      "source": [
        "# 1 Calculate Discounted Prices\n",
        "# This section will create a function to calculate discount prices with or without defaults.\n",
        "# Write a function that will return the final price after taking out the discount\n",
        "def calculate_discounted_price(price, discount_percentage=10): # default discount is 10%\n",
        "  return f\"${price*(1-(discount_percentage/100)):.2f}\"\n",
        "\n",
        "calculate_discounted_price(799.99)"
      ]
    },
    {
      "cell_type": "code",
      "source": [
        "# 2 **Sales Report Function with *args and kwargs\n",
        "# This section will generate a sales report with the sum of sales, report date(with default: Unknown), and promotional discounts accepted as **kwargs\n",
        "import datetime\n",
        "now = datetime.datetime.now() # Uses built in function to display report time\n",
        "def generate_sales_report(*sales, report_date=\"Unknown\", **promo_metrics):\n",
        "  # Total and print all given sales data, the *arg\n",
        "  sales_total = sum(sales)\n",
        "  print(f\"Sales total: ${sales_total:.2f}\")\n",
        "  # Print all data in promo metrics, the **kwarg\n",
        "  for key, value in promo_metrics.items():\n",
        "    print(f\"{key}: {value}\")\n",
        "  # Print the report date, default= \"Unknown\"\n",
        "  print(f\"Report Date: {report_date}\")\n",
        "\n",
        "# Call the function with the provided metrics in the assignment\n",
        "generate_sales_report(1500, 2300.5, 1890.75, 2120, report_date=now.strftime(\"%Y-%m-%d %H:%M:%S\"), Total_Orders=125, New_Customers=30, Conversion_Rate=\"5%\")"
      ],
      "metadata": {
        "colab": {
          "base_uri": "https://localhost:8080/"
        },
        "id": "xQax5rZgegKT",
        "outputId": "21ff76ce-4037-4af0-bcb7-de92ec471646"
      },
      "execution_count": 72,
      "outputs": [
        {
          "output_type": "stream",
          "name": "stdout",
          "text": [
            "Sales total: $7811.25\n",
            "Total_Orders: 125\n",
            "New_Customers: 30\n",
            "Conversion_Rate: 5%\n",
            "Report Date: 2025-09-20 19:53:58\n"
          ]
        }
      ]
    },
    {
      "cell_type": "code",
      "source": [
        "# 3 Custom Module for ROI\n",
        "# This section will create a sales_tools.py module that contains a function to return ROI using the provided investment data.\n",
        "%%writefile \"/content/sales_tools.py\"\n",
        "def calculate_roi(initial_investment, final_value):\n",
        "  roi = (final_value-initial_investment)/initial_investment # calculate ROI\n",
        "  return f\"{roi:.2f}\""
      ],
      "metadata": {
        "colab": {
          "base_uri": "https://localhost:8080/"
        },
        "id": "lJAh4tQ9ekyy",
        "outputId": "05a851f3-aafb-434f-d4f4-783b3d8b50e9"
      },
      "execution_count": 73,
      "outputs": [
        {
          "output_type": "stream",
          "name": "stdout",
          "text": [
            "Overwriting /content/sales_tools.py\n"
          ]
        }
      ]
    },
    {
      "cell_type": "code",
      "source": [
        "# 4 Main Fuction Integration\n",
        "# This section will import the sales_tools module and call a main function to calculate the discount price, generate the sales report, and calculate the ROI.\n",
        "import sales_tools\n",
        "def main():\n",
        "  # Call the calculate_discounted_price with the given data and print the result\n",
        "  print(f\"Calculated discount price: {calculate_discounted_price(799.99)}\\n\")\n",
        "  # Call the generate_sales_report with the provided data\n",
        "  generate_sales_report(1500, 2300.5, 1890.75, 2120, report_date=\"2025-09-19 23:59:59\", Total_Orders=125, New_Customers=30, Conversion_Rate=\"5%\")\n",
        "  # Call the calculate_roi from the sales_data.py with the given data and print the result\n",
        "  roi_result = float(sales_tools.calculate_roi(5000,8500))\n",
        "  print(f\"\\nROI: {roi_result:.2f}%\")\n",
        "\n",
        "# Ensure there is a main function and call it\n",
        "if __name__ == \"__main__\":\n",
        "  main()\n"
      ],
      "metadata": {
        "colab": {
          "base_uri": "https://localhost:8080/"
        },
        "id": "2A4xhVxainGa",
        "outputId": "bb5af261-9b50-4b57-ec3c-bdae07904ea8"
      },
      "execution_count": 74,
      "outputs": [
        {
          "output_type": "stream",
          "name": "stdout",
          "text": [
            "Calculated discount price: $719.99\n",
            "\n",
            "Sales total: $7811.25\n",
            "Total_Orders: 125\n",
            "New_Customers: 30\n",
            "Conversion_Rate: 5%\n",
            "Report Date: 2025-09-19 23:59:59\n",
            "\n",
            "ROI: 0.70%\n"
          ]
        }
      ]
    }
  ]
}